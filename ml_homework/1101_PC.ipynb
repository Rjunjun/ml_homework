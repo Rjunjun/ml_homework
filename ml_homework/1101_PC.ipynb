{
 "cells": [
  {
   "cell_type": "code",
   "execution_count": 1,
   "metadata": {
    "colab": {},
    "colab_type": "code",
    "id": "GEerW5NnDBI6"
   },
   "outputs": [
    {
     "name": "stderr",
     "output_type": "stream",
     "text": [
      "Using TensorFlow backend.\n"
     ]
    }
   ],
   "source": [
    "import os\n",
    "import numpy as np\n",
    "from sklearn.model_selection import train_test_split\n",
    "from keras.preprocessing import image\n",
    "from keras.utils import np_utils, plot_model\n",
    "import cv2\n",
    "from PIL import Image\n",
    "import pandas as pd"
   ]
  },
  {
   "cell_type": "code",
   "execution_count": 2,
   "metadata": {
    "colab": {},
    "colab_type": "code",
    "id": "MWs8xb6RFvMG"
   },
   "outputs": [
    {
     "name": "stdout",
     "output_type": "stream",
     "text": [
      "train_images size : 2528\n"
     ]
    }
   ],
   "source": [
    "#test_images_path = '/content/drive/My Drive/Colab Notebooks/AOI/test_images'\n",
    "#test_images = os.listdir(test_images_path)\n",
    "train_images_path = 'train_images'\n",
    "train_images = os.listdir(train_images_path) \n",
    "#print(\"test_images size :\",len(test_images))\n",
    "print(\"train_images size :\",len(train_images))"
   ]
  },
  {
   "cell_type": "code",
   "execution_count": 3,
   "metadata": {
    "colab": {},
    "colab_type": "code",
    "id": "Ddu8VfN4HUSp"
   },
   "outputs": [
    {
     "name": "stdout",
     "output_type": "stream",
     "text": [
      "(512, 512, 3)\n",
      "(512, 512, 3)\n"
     ]
    }
   ],
   "source": [
    "#確定train_data裡的IMG是否為一樣大小\n",
    "for i in train_images[:2] :\n",
    "    img = cv2.imread(train_images_path+\"/\"+i)\n",
    "    print(img.shape)\n",
    "    if img.shape != (512,512,3) :\n",
    "        print('ee')\n"
   ]
  },
  {
   "cell_type": "code",
   "execution_count": 4,
   "metadata": {
    "colab": {},
    "colab_type": "code",
    "id": "mGaxMSL-Os8T"
   },
   "outputs": [],
   "source": [
    "train_images.sort()\n",
    "trainDataPaths = []\n",
    "for i in train_images:\n",
    "    trainDataPaths.append(train_images_path+\"/\"+i)"
   ]
  },
  {
   "cell_type": "code",
   "execution_count": 5,
   "metadata": {
    "colab": {},
    "colab_type": "code",
    "id": "a48kV2n1M_Ki"
   },
   "outputs": [],
   "source": [
    "pixel_depth = 255.0\n",
    "\n",
    "def prep_data(images):\n",
    "    count = len(images)\n",
    "    data = np.ndarray((count, 512, 512, 3), dtype=np.float32)\n",
    "\n",
    "    for i, image_file in enumerate(images) :\n",
    "        img = cv2.imread(image_file)\n",
    "        image_data = np.array(img, dtype=np.float32)\n",
    "        #正規化\n",
    "        image_data[:, :, 0] = (image_data[:, :, 0].astype(float) - pixel_depth / 2) / pixel_depth\n",
    "        image_data[:, :, 1] = (image_data[:, :, 1].astype(float) - pixel_depth / 2) / pixel_depth\n",
    "        image_data[:, :, 2] = (image_data[:, :, 2].astype(float) - pixel_depth / 2) / pixel_depth\n",
    "\n",
    "        data[i] = image_data\n",
    "        if i % 50 == 0:\n",
    "            print(\"Processed {} of {}\".format(i, count))\n",
    "\n",
    "    return data"
   ]
  },
  {
   "cell_type": "code",
   "execution_count": 6,
   "metadata": {
    "colab": {
     "base_uri": "https://localhost:8080/",
     "height": 67
    },
    "colab_type": "code",
    "executionInfo": {
     "elapsed": 1104559,
     "status": "ok",
     "timestamp": 1572551967918,
     "user": {
      "displayName": "賴均杰",
      "photoUrl": "",
      "userId": "02163128368733976250"
     },
     "user_tz": -480
    },
    "id": "5Y_yMPntOZPj",
    "outputId": "8db87434-fcb3-4d84-e237-7d89bfd30d90"
   },
   "outputs": [
    {
     "name": "stdout",
     "output_type": "stream",
     "text": [
      "Processed 0 of 2528\n",
      "Processed 50 of 2528\n",
      "Processed 100 of 2528\n",
      "Processed 150 of 2528\n",
      "Processed 200 of 2528\n",
      "Processed 250 of 2528\n",
      "Processed 300 of 2528\n",
      "Processed 350 of 2528\n",
      "Processed 400 of 2528\n",
      "Processed 450 of 2528\n",
      "Processed 500 of 2528\n",
      "Processed 550 of 2528\n",
      "Processed 600 of 2528\n",
      "Processed 650 of 2528\n",
      "Processed 700 of 2528\n",
      "Processed 750 of 2528\n",
      "Processed 800 of 2528\n",
      "Processed 850 of 2528\n",
      "Processed 900 of 2528\n",
      "Processed 950 of 2528\n",
      "Processed 1000 of 2528\n",
      "Processed 1050 of 2528\n",
      "Processed 1100 of 2528\n",
      "Processed 1150 of 2528\n",
      "Processed 1200 of 2528\n",
      "Processed 1250 of 2528\n",
      "Processed 1300 of 2528\n",
      "Processed 1350 of 2528\n",
      "Processed 1400 of 2528\n",
      "Processed 1450 of 2528\n",
      "Processed 1500 of 2528\n",
      "Processed 1550 of 2528\n",
      "Processed 1600 of 2528\n",
      "Processed 1650 of 2528\n",
      "Processed 1700 of 2528\n",
      "Processed 1750 of 2528\n",
      "Processed 1800 of 2528\n",
      "Processed 1850 of 2528\n",
      "Processed 1900 of 2528\n",
      "Processed 1950 of 2528\n",
      "Processed 2000 of 2528\n",
      "Processed 2050 of 2528\n",
      "Processed 2100 of 2528\n",
      "Processed 2150 of 2528\n",
      "Processed 2200 of 2528\n",
      "Processed 2250 of 2528\n",
      "Processed 2300 of 2528\n",
      "Processed 2350 of 2528\n",
      "Processed 2400 of 2528\n",
      "Processed 2450 of 2528\n",
      "Processed 2500 of 2528\n"
     ]
    }
   ],
   "source": [
    "data = prep_data(trainDataPaths)"
   ]
  },
  {
   "cell_type": "code",
   "execution_count": null,
   "metadata": {
    "colab": {},
    "colab_type": "code",
    "id": "n3vrv-CgZ40X"
   },
   "outputs": [],
   "source": [
    "from sklearn.preprocessing import OneHotEncoder\n",
    "dfLabel = pd.read_csv('train.csv')\n",
    "np_label = np.array(dfLabel['Label'])\n",
    "np_label = np_utils.to_categorical(np_label)\n",
    "(x_train, x_test, y_train, y_test) = train_test_split(data, np_label, test_size=0.2, random_state=42)\n"
   ]
  },
  {
   "cell_type": "code",
   "execution_count": null,
   "metadata": {
    "colab": {},
    "colab_type": "code",
    "id": "wS_mUTWjLcPQ"
   },
   "outputs": [],
   "source": [
    "from keras.models import Sequential, model_from_yaml, load_model\n",
    "from keras.layers import Dense, Conv2D, Flatten, Dropout, MaxPooling2D\n",
    "from keras.optimizers import Adam, SGD\n",
    "\n",
    "model = Sequential()\n",
    "model.add(Conv2D(filters=16, kernel_size=(5, 5), padding='same', input_shape=(512, 512, 3), activation='relu'))\n",
    "model.add(MaxPooling2D(pool_size=(2, 2)))\n",
    "model.add(Dropout(0.25))\n",
    "model.add(Conv2D(filters=36, kernel_size=(5, 5), padding='same', activation='relu'))\n",
    "model.add(MaxPooling2D(pool_size=(2, 2)))\n",
    "model.add(Dropout(0.5))\n",
    "model.add(Flatten())\n",
    "model.add(Dense(6, activation='softmax'))\n",
    "model.summary()"
   ]
  },
  {
   "cell_type": "code",
   "execution_count": null,
   "metadata": {},
   "outputs": [],
   "source": [
    "sgd = Adam(lr=0.0001)\n",
    "model.compile(loss='binary_crossentropy',optimizer=sgd, metrics=['accuracy'])\n"
   ]
  },
  {
   "cell_type": "code",
   "execution_count": null,
   "metadata": {},
   "outputs": [],
   "source": [
    "train_history = model.fit(x_train, y_train, batch_size=20, epochs=30, verbose=2, validation_data=(x_test, y_test))"
   ]
  },
  {
   "cell_type": "code",
   "execution_count": null,
   "metadata": {},
   "outputs": [],
   "source": []
  }
 ],
 "metadata": {
  "accelerator": "GPU",
  "colab": {
   "collapsed_sections": [],
   "name": "1101.ipynb",
   "provenance": []
  },
  "kernelspec": {
   "display_name": "Python 3",
   "language": "python",
   "name": "python3"
  },
  "language_info": {
   "codemirror_mode": {
    "name": "ipython",
    "version": 3
   },
   "file_extension": ".py",
   "mimetype": "text/x-python",
   "name": "python",
   "nbconvert_exporter": "python",
   "pygments_lexer": "ipython3",
   "version": "3.7.3"
  }
 },
 "nbformat": 4,
 "nbformat_minor": 1
}
