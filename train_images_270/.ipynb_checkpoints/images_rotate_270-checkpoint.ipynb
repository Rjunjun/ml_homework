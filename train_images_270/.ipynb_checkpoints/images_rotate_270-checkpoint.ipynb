{
 "cells": [
  {
   "cell_type": "code",
   "execution_count": 1,
   "metadata": {},
   "outputs": [],
   "source": [
    "from PIL import Image\n",
    "import os\n"
   ]
  },
  {
   "cell_type": "code",
   "execution_count": 2,
   "metadata": {},
   "outputs": [
    {
     "name": "stdout",
     "output_type": "stream",
     "text": [
      "train_images size : 2528\n"
     ]
    }
   ],
   "source": [
    "#讀取圖片\n",
    "train_images_ori_path = '../train_images'\n",
    "train_images = os.listdir(train_images_ori_path) \n",
    "print(\"train_images size :\",len(train_images)) #確認資料夾內有多少筆資料"
   ]
  },
  {
   "cell_type": "code",
   "execution_count": 3,
   "metadata": {},
   "outputs": [],
   "source": [
    "#逆時針旋轉\n",
    "for i in train_images:\n",
    "    train_images_path = train_images_ori_path+'/'+i\n",
    "    im = Image.open(train_images_path)\n",
    "#    im.show()\n",
    "    im_rotate = im.rotate(270) #指定逆時針旋轉的角度 \n",
    "#    im_rotate.show()\n",
    "    train_images_name='270_'+i #90度圖片命名\n",
    "    im_rotate.save(train_images_name) #儲存圖片"
   ]
  },
  {
   "cell_type": "code",
   "execution_count": 15,
   "metadata": {},
   "outputs": [],
   "source": [
    "\n",
    "    "
   ]
  },
  {
   "cell_type": "code",
   "execution_count": 26,
   "metadata": {},
   "outputs": [],
   "source": []
  },
  {
   "cell_type": "code",
   "execution_count": null,
   "metadata": {},
   "outputs": [],
   "source": []
  },
  {
   "cell_type": "code",
   "execution_count": null,
   "metadata": {},
   "outputs": [],
   "source": []
  }
 ],
 "metadata": {
  "kernelspec": {
   "display_name": "Python 3",
   "language": "python",
   "name": "python3"
  },
  "language_info": {
   "codemirror_mode": {
    "name": "ipython",
    "version": 3
   },
   "file_extension": ".py",
   "mimetype": "text/x-python",
   "name": "python",
   "nbconvert_exporter": "python",
   "pygments_lexer": "ipython3",
   "version": "3.7.3"
  }
 },
 "nbformat": 4,
 "nbformat_minor": 2
}
