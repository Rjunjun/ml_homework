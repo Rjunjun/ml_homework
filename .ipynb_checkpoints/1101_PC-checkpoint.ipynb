{
 "cells": [
  {
   "cell_type": "code",
   "execution_count": 1,
   "metadata": {
    "colab": {},
    "colab_type": "code",
    "id": "GEerW5NnDBI6"
   },
   "outputs": [
    {
     "name": "stderr",
     "output_type": "stream",
     "text": [
      "Using TensorFlow backend.\n"
     ]
    },
    {
     "ename": "ModuleNotFoundError",
     "evalue": "No module named 'cv2'",
     "output_type": "error",
     "traceback": [
      "\u001b[1;31m---------------------------------------------------------------------------\u001b[0m",
      "\u001b[1;31mModuleNotFoundError\u001b[0m                       Traceback (most recent call last)",
      "\u001b[1;32m<ipython-input-1-dfd95a7cc606>\u001b[0m in \u001b[0;36m<module>\u001b[1;34m\u001b[0m\n\u001b[0;32m      4\u001b[0m \u001b[1;32mfrom\u001b[0m \u001b[0mkeras\u001b[0m\u001b[1;33m.\u001b[0m\u001b[0mpreprocessing\u001b[0m \u001b[1;32mimport\u001b[0m \u001b[0mimage\u001b[0m\u001b[1;33m\u001b[0m\u001b[1;33m\u001b[0m\u001b[0m\n\u001b[0;32m      5\u001b[0m \u001b[1;32mfrom\u001b[0m \u001b[0mkeras\u001b[0m\u001b[1;33m.\u001b[0m\u001b[0mutils\u001b[0m \u001b[1;32mimport\u001b[0m \u001b[0mnp_utils\u001b[0m\u001b[1;33m,\u001b[0m \u001b[0mplot_model\u001b[0m\u001b[1;33m\u001b[0m\u001b[1;33m\u001b[0m\u001b[0m\n\u001b[1;32m----> 6\u001b[1;33m \u001b[1;32mimport\u001b[0m \u001b[0mcv2\u001b[0m\u001b[1;33m\u001b[0m\u001b[1;33m\u001b[0m\u001b[0m\n\u001b[0m\u001b[0;32m      7\u001b[0m \u001b[1;32mfrom\u001b[0m \u001b[0mPIL\u001b[0m \u001b[1;32mimport\u001b[0m \u001b[0mImage\u001b[0m\u001b[1;33m\u001b[0m\u001b[1;33m\u001b[0m\u001b[0m\n\u001b[0;32m      8\u001b[0m \u001b[1;32mimport\u001b[0m \u001b[0mpandas\u001b[0m \u001b[1;32mas\u001b[0m \u001b[0mpd\u001b[0m\u001b[1;33m\u001b[0m\u001b[1;33m\u001b[0m\u001b[0m\n",
      "\u001b[1;31mModuleNotFoundError\u001b[0m: No module named 'cv2'"
     ]
    }
   ],
   "source": [
    "import os\n",
    "import numpy as np\n",
    "from sklearn.model_selection import train_test_split\n",
    "from keras.preprocessing import image\n",
    "from keras.utils import np_utils, plot_model\n",
    "import cv2\n",
    "from PIL import Image\n",
    "import pandas as pd"
   ]
  },
  {
   "cell_type": "code",
   "execution_count": 0,
   "metadata": {
    "colab": {},
    "colab_type": "code",
    "id": "MWs8xb6RFvMG"
   },
   "outputs": [],
   "source": [
    "#test_images_path = '/content/drive/My Drive/Colab Notebooks/AOI/test_images'\n",
    "#test_images = os.listdir(test_images_path)\n",
    "train_images_path = '/content/drive/My Drive/Colab Notebooks/AOI/train_images'\n",
    "train_images = os.listdir(train_images_path) \n",
    "#print(\"test_images size :\",len(test_images))\n",
    "print(\"train_images size :\",len(train_images))"
   ]
  },
  {
   "cell_type": "code",
   "execution_count": 0,
   "metadata": {
    "colab": {},
    "colab_type": "code",
    "id": "Ddu8VfN4HUSp"
   },
   "outputs": [],
   "source": [
    "#確定train_data裡的IMG是否為一樣大小\n",
    "for i in train_images[:2] :\n",
    "     img = cv2.imread(train_images_path+\"/\"+i)\n",
    "     print(img.shape)\n",
    "     if img.shape != (512,512,3) :\n",
    "         print('ee')\n"
   ]
  },
  {
   "cell_type": "code",
   "execution_count": 0,
   "metadata": {
    "colab": {},
    "colab_type": "code",
    "id": "mGaxMSL-Os8T"
   },
   "outputs": [],
   "source": [
    "train_images.sort()\n",
    "trainDataPaths = []\n",
    "for i in train_images:\n",
    "    trainDataPaths.append(train_images_path+\"/\"+i)"
   ]
  },
  {
   "cell_type": "code",
   "execution_count": 0,
   "metadata": {
    "colab": {},
    "colab_type": "code",
    "id": "a48kV2n1M_Ki"
   },
   "outputs": [],
   "source": [
    "pixel_depth = 255.0\n",
    "\n",
    "def prep_data(images):\n",
    "    count = len(images)\n",
    "    data = np.ndarray((count, 512, 512, 3), dtype=np.float32)\n",
    "\n",
    "    for i, image_file in enumerate(images) :\n",
    "        img = cv2.imread(image_file)\n",
    "        image_data = np.array(img, dtype=np.float32)\n",
    "        #正規化\n",
    "        image_data[:, :, 0] = (image_data[:, :, 0].astype(float) - pixel_depth / 2) / pixel_depth\n",
    "        image_data[:, :, 1] = (image_data[:, :, 1].astype(float) - pixel_depth / 2) / pixel_depth\n",
    "        image_data[:, :, 2] = (image_data[:, :, 2].astype(float) - pixel_depth / 2) / pixel_depth\n",
    "\n",
    "        data[i] = image_data\n",
    "        if i % 50 == 0:\n",
    "            print(\"Processed {} of {}\".format(i, count))\n",
    "\n",
    "    return data"
   ]
  },
  {
   "cell_type": "code",
   "execution_count": 9,
   "metadata": {
    "colab": {
     "base_uri": "https://localhost:8080/",
     "height": 67
    },
    "colab_type": "code",
    "executionInfo": {
     "elapsed": 1104559,
     "status": "ok",
     "timestamp": 1572551967918,
     "user": {
      "displayName": "賴均杰",
      "photoUrl": "",
      "userId": "02163128368733976250"
     },
     "user_tz": -480
    },
    "id": "5Y_yMPntOZPj",
    "outputId": "8db87434-fcb3-4d84-e237-7d89bfd30d90"
   },
   "outputs": [
    {
     "name": "stdout",
     "output_type": "stream",
     "text": [
      "Processed 0 of 2528\n",
      "Processed 1000 of 2528\n",
      "Processed 2000 of 2528\n"
     ]
    }
   ],
   "source": [
    "data = prep_data(trainDataPaths)"
   ]
  },
  {
   "cell_type": "code",
   "execution_count": 0,
   "metadata": {
    "colab": {},
    "colab_type": "code",
    "id": "n3vrv-CgZ40X"
   },
   "outputs": [],
   "source": [
    "np.save('/content/drive/My Drive/Colab Notebooks/AOI/prep_data', data)\n",
    "data = np.load('/content/drive/My Drive/Colab Notebooks/AOI/prep_data.npy')"
   ]
  },
  {
   "cell_type": "code",
   "execution_count": 0,
   "metadata": {
    "colab": {},
    "colab_type": "code",
    "id": "wS_mUTWjLcPQ"
   },
   "outputs": [],
   "source": [
    "dfLabel = pd.read_csv('/content/drive/My Drive/Colab Notebooks/AOI/train.csv')\n",
    "dfLabel "
   ]
  }
 ],
 "metadata": {
  "accelerator": "GPU",
  "colab": {
   "collapsed_sections": [],
   "name": "1101.ipynb",
   "provenance": []
  },
  "kernelspec": {
   "display_name": "Python 3",
   "language": "python",
   "name": "python3"
  },
  "language_info": {
   "codemirror_mode": {
    "name": "ipython",
    "version": 3
   },
   "file_extension": ".py",
   "mimetype": "text/x-python",
   "name": "python",
   "nbconvert_exporter": "python",
   "pygments_lexer": "ipython3",
   "version": "3.7.3"
  }
 },
 "nbformat": 4,
 "nbformat_minor": 1
}
